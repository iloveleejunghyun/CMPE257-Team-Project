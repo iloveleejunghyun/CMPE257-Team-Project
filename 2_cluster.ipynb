{
 "metadata": {
  "language_info": {
   "codemirror_mode": {
    "name": "ipython",
    "version": 3
   },
   "file_extension": ".py",
   "mimetype": "text/x-python",
   "name": "python",
   "nbconvert_exporter": "python",
   "pygments_lexer": "ipython3",
   "version": "3.8.3-final"
  },
  "orig_nbformat": 2,
  "kernelspec": {
   "name": "Python 3.8.3 32-bit",
   "display_name": "Python 3.8.3 32-bit",
   "metadata": {
    "interpreter": {
     "hash": "889621b55858f51f0aa49f88b0340aacb2c22990ec25417723c20a1c624bf098"
    }
   }
  }
 },
 "nbformat": 4,
 "nbformat_minor": 2,
 "cells": [
  {
   "cell_type": "code",
   "execution_count": 9,
   "metadata": {
    "tags": []
   },
   "outputs": [
    {
     "output_type": "stream",
     "name": "stdout",
     "text": [
      "dataset size 10000\n",
      "               name label\n",
      "0     United States     0\n",
      "1     United States     0\n",
      "2     United States     0\n",
      "3     United States     0\n",
      "4     United States     0\n",
      "...             ...   ...\n",
      "9995  United States     0\n",
      "9996  United States     0\n",
      "9997  United States     0\n",
      "9998  United States     0\n",
      "9999  United States     0\n",
      "\n",
      "[10000 rows x 2 columns]\n",
      "                                           product_name   countries_en  \\\n",
      "0                        Banana Chips Sweetened (Whole)  United States   \n",
      "1                                               Peanuts  United States   \n",
      "2                                Organic Salted Nut Mix  United States   \n",
      "3                                       Organic Polenta  United States   \n",
      "4                     Breadshop Honey Gone Nuts Granola  United States   \n",
      "...                                                 ...            ...   \n",
      "9995  Iced Tea & Lemonade, Half & Half Flavor With O...  United States   \n",
      "9996                      Caffeine Free Lemon-Lime Soda  United States   \n",
      "9997                                               Soda  United States   \n",
      "9998                         1 - 2 - 3, 100% Canola Oil  United States   \n",
      "9999              1-2-3, Cholesterol Free Vegetable Oil  United States   \n",
      "\n",
      "                                       ingredients_text traces_en  \\\n",
      "0     Bananas, vegetable oil (coconut oil, corn oil ...       NaN   \n",
      "1     Peanuts, wheat flour, sugar, rice flour, tapio...       NaN   \n",
      "2     Organic hazelnuts, organic cashews, organic wa...       NaN   \n",
      "3                                       Organic polenta       NaN   \n",
      "4     Rolled oats, grape concentrate, expeller press...       NaN   \n",
      "...                                                 ...       ...   \n",
      "9995  Water, high fructose corn syrup, citric acid, ...       NaN   \n",
      "9996  Carbonated water, sugar, citric acid, natural ...       NaN   \n",
      "9997  Carbonated water, high fructose corn syrup, co...       NaN   \n",
      "9998                    Canola oil, tbhq (antioxidant).       NaN   \n",
      "9999     Canola oil, sunflower oil, tbhq (antioxidant).       NaN   \n",
      "\n",
      "      additives_n  natural flavor  citric acid  salt  folic acid)  niacin  \\\n",
      "0             0.0             0.0          0.0   0.0          0.0     0.0   \n",
      "1             0.0             0.0          0.0   1.0          0.0     0.0   \n",
      "2             0.0             0.0          0.0   0.0          0.0     0.0   \n",
      "3             0.0             0.0          0.0   0.0          0.0     0.0   \n",
      "4             0.0             0.0          0.0   0.0          0.0     0.0   \n",
      "...           ...             ...          ...   ...          ...     ...   \n",
      "9995          5.0             0.0          0.0   0.0          0.0     0.0   \n",
      "9996          2.0             0.0          0.0   0.0          0.0     0.0   \n",
      "9997          6.0             0.0          0.0   0.0          0.0     0.0   \n",
      "9998          1.0             0.0          0.0   0.0          0.0     0.0   \n",
      "9999          1.0             0.0          0.0   0.0          0.0     0.0   \n",
      "\n",
      "      sugar  water  riboflavin  corn syrup  thiamine mononitrate  label  \n",
      "0       0.0    0.0         0.0         0.0                   0.0      0  \n",
      "1       1.0    0.0         0.0         0.0                   0.0      0  \n",
      "2       0.0    0.0         0.0         0.0                   0.0      0  \n",
      "3       0.0    0.0         0.0         0.0                   0.0      0  \n",
      "4       0.0    0.0         0.0         0.0                   0.0      0  \n",
      "...     ...    ...         ...         ...                   ...    ...  \n",
      "9995    0.0    0.0         0.0         0.0                   0.0      0  \n",
      "9996    0.0    0.0         0.0         0.0                   0.0      0  \n",
      "9997    0.0    0.0         0.0         0.0                   0.0      0  \n",
      "9998    0.0    0.0         0.0         0.0                   0.0      0  \n",
      "9999    0.0    0.0         0.0         0.0                   0.0      0  \n",
      "\n",
      "[10000 rows x 16 columns]\n"
     ]
    }
   ],
   "source": [
    "import numpy as np\n",
    "import pandas as pd\n",
    "import collections\n",
    "from sklearn.cluster import KMeans\n",
    "\n",
    "df = pd.read_csv(\"highDdata.csv\")\n",
    "N = df.shape[0]\n",
    "print(\"dataset size\", N)\n",
    "df = df[0:N+1]\n",
    "data = np.array(df)\n",
    "data = data[:, 6:data.shape[1]]\n",
    "# print(data)\n",
    " \n",
    "num_clusters = 2\n",
    "km_cluster = KMeans(n_clusters=num_clusters, max_iter=300, n_init=40, \\\n",
    "                    init='k-means++',n_jobs=-1)\n",
    "\n",
    "#返回各自文本的所被分配到的类索引\n",
    "result = km_cluster.fit_predict(data)\n",
    "show = np.column_stack((np.array(df)[:,1], result))\n",
    "show = pd.DataFrame(show, columns=[\"name\", \"label\"])\n",
    "print(show)\n",
    "\n",
    "\n",
    "result = pd.DataFrame(result, columns=[\"label\"])\n",
    "\n",
    "result = pd.concat([df, result], axis=1)\n",
    "\n",
    "print(result)\n",
    "result.to_csv(\"highDdataLabeled.csv\", index = False)\n",
    "# res = km_cluster.predict(data)\n",
    "# print(res)\n",
    "# for i in range(N):\n",
    "#     print(df.iat[i,1], result[i])\n",
    "\n",
    "\n",
    "\n"
   ]
  },
  {
   "cell_type": "code",
   "execution_count": 8,
   "metadata": {},
   "outputs": [],
   "source": []
  },
  {
   "cell_type": "code",
   "execution_count": null,
   "metadata": {},
   "outputs": [],
   "source": []
  },
  {
   "cell_type": "code",
   "execution_count": null,
   "metadata": {},
   "outputs": [],
   "source": []
  }
 ]
}