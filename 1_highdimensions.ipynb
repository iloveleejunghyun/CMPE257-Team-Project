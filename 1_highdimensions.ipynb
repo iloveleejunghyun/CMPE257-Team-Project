{
 "metadata": {
  "language_info": {
   "codemirror_mode": {
    "name": "ipython",
    "version": 3
   },
   "file_extension": ".py",
   "mimetype": "text/x-python",
   "name": "python",
   "nbconvert_exporter": "python",
   "pygments_lexer": "ipython3",
   "version": "3.8.3-final"
  },
  "orig_nbformat": 2,
  "kernelspec": {
   "name": "Python 3.8.3 32-bit",
   "display_name": "Python 3.8.3 32-bit",
   "metadata": {
    "interpreter": {
     "hash": "889621b55858f51f0aa49f88b0340aacb2c22990ec25417723c20a1c624bf098"
    }
   }
  }
 },
 "nbformat": 4,
 "nbformat_minor": 2,
 "cells": [
  {
   "cell_type": "code",
   "execution_count": 1,
   "metadata": {},
   "outputs": [],
   "source": [
    "#3.25H\n",
    "import numpy as np\n",
    "import pandas as pd\n",
    "import collections\n",
    "\n",
    "\n",
    "#Number of dataset to use\n",
    "N = 10000\n",
    "\n",
    "#How many keys to use\n",
    "max_sel_keys = 10"
   ]
  },
  {
   "cell_type": "code",
   "execution_count": 2,
   "metadata": {
    "tags": []
   },
   "outputs": [
    {
     "output_type": "stream",
     "name": "stdout",
     "text": [
      "dataset size 171460\n",
      "used  10000\n",
      "key size 16229\n",
      "There are too many keys, we only use top 10 frequent keys to cluster\n",
      "selected key list {'natural flavor', 'citric acid', 'salt', 'folic acid)', 'niacin', 'sugar', 'water', 'riboflavin', 'corn syrup', 'thiamine mononitrate'}\n"
     ]
    }
   ],
   "source": [
    "\n",
    "\n",
    "df = pd.read_csv(\"reduce3.csv\")\n",
    "\n",
    "# get ingredients_text where Location = USA\n",
    "df =  df.query(\"countries_en == 'United States'\")\n",
    "\n",
    "ing_list = collections.defaultdict(int)\n",
    "total = df.shape[0]\n",
    "N = min(total, N)\n",
    "\n",
    "\n",
    "\n",
    "df = df[0:N]\n",
    "\n",
    "print(\"dataset size\",total)\n",
    "print(\"used \",N)\n",
    "\n",
    "\n",
    "for i in range (N):\n",
    "    ingredients_text = df.iat[i,2]\n",
    "    ing = ingredients_text.split(\",\")\n",
    "    for j in range(len(ing)):\n",
    "        ing[j] = ing[j].replace(\".\",\"\").strip()\n",
    "    for ingredient in ing:\n",
    "        ing_list[ingredient] += 1\n",
    "\n",
    "print(\"key size\", len(ing_list))\n",
    "max_sel_keys = min(max_sel_keys, len(ing_list))\n",
    "print(f\"There are too many keys, we only use top {max_sel_keys} frequent keys to cluster\")\n",
    "\n",
    "count_dict = collections.defaultdict(list)\n",
    "for key, val in ing_list.items():\n",
    "    count_dict[val].append(key)\n",
    "\n",
    "keys = list(count_dict.keys())\n",
    "keys.sort(reverse=True)\n",
    "sel_keywords = set()\n",
    "for i in range(min(max_sel_keys, len(keys))):\n",
    "    # print(f\"count={keys[i]}, ingredients={count_dict[keys[i]]}\")\n",
    "    sel_keywords |= set(count_dict[keys[i]])\n",
    "\n",
    "print(\"selected key list\", sel_keywords)\n",
    "\n",
    "#add columns\n",
    "for item in sel_keywords:\n",
    "    df[item] = 0 #init with 0\n",
    "\n",
    "for i in range (N):\n",
    "    ingredients_text = df.iat[i,2]\n",
    "    ing = ingredients_text.split(\",\")\n",
    "    for j in range(len(ing)):\n",
    "        ing[j] = ing[j].replace(\".\",\"\").strip()\n",
    "    for ingredient in ing:\n",
    "        if ingredient in sel_keywords:\n",
    "            df.at[i,ingredient] = 1\n",
    "\n",
    "df = df[0:N]\n",
    "\n",
    "\n",
    "\n"
   ]
  },
  {
   "cell_type": "code",
   "execution_count": 3,
   "metadata": {},
   "outputs": [
    {
     "output_type": "stream",
     "name": "stdout",
     "text": [
      "save the high dimensional data to highDdata.csv\n"
     ]
    }
   ],
   "source": [
    "print(\"save the high dimensional data to highDdata.csv\")\n",
    "\n",
    "# import os\n",
    "# os.remove(\"highDdata.csv\")\n",
    "\n",
    "df.to_csv(\"highDdata.csv\", index = False)"
   ]
  },
  {
   "cell_type": "code",
   "execution_count": null,
   "metadata": {},
   "outputs": [],
   "source": []
  },
  {
   "cell_type": "code",
   "execution_count": null,
   "metadata": {},
   "outputs": [],
   "source": []
  }
 ]
}