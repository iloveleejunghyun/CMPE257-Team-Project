{
 "metadata": {
  "language_info": {
   "codemirror_mode": {
    "name": "ipython",
    "version": 3
   },
   "file_extension": ".py",
   "mimetype": "text/x-python",
   "name": "python",
   "nbconvert_exporter": "python",
   "pygments_lexer": "ipython3",
   "version": "3.8.3-final"
  },
  "orig_nbformat": 2,
  "kernelspec": {
   "name": "Python 3.8.3 32-bit",
   "display_name": "Python 3.8.3 32-bit",
   "metadata": {
    "interpreter": {
     "hash": "889621b55858f51f0aa49f88b0340aacb2c22990ec25417723c20a1c624bf098"
    }
   }
  }
 },
 "nbformat": 4,
 "nbformat_minor": 2,
 "cells": [
  {
   "cell_type": "code",
   "execution_count": 2,
   "metadata": {
    "tags": []
   },
   "outputs": [
    {
     "output_type": "stream",
     "name": "stdout",
     "text": [
      "dataset size 10000\n",
      "                                                   name class\n",
      "0                                               Peanuts     0\n",
      "1                                Organic Salted Nut Mix     0\n",
      "2                                       Organic Polenta     0\n",
      "3                     Breadshop Honey Gone Nuts Granola     0\n",
      "4                         Organic Long Grain White Rice     0\n",
      "...                                                 ...   ...\n",
      "9994  Iced Tea & Lemonade, Half & Half Flavor With O...     0\n",
      "9995                      Caffeine Free Lemon-Lime Soda     0\n",
      "9996                                               Soda     0\n",
      "9997                         1 - 2 - 3, 100% Canola Oil     0\n",
      "9998              1-2-3, Cholesterol Free Vegetable Oil     0\n",
      "\n",
      "[9999 rows x 2 columns]\n"
     ]
    }
   ],
   "source": [
    "import numpy as np\n",
    "import pandas as pd\n",
    "import collections\n",
    "from sklearn.cluster import KMeans\n",
    "\n",
    "df = pd.read_csv(\"highDdata.csv\")\n",
    "N = df.shape[0]\n",
    "print(\"dataset size\", N)\n",
    "df = df[1:N+1]\n",
    "data = np.array(df)\n",
    "data = data[:, 6:data.shape[1]]\n",
    "# print(data)\n",
    " \n",
    "num_clusters = 2\n",
    "km_cluster = KMeans(n_clusters=num_clusters, max_iter=300, n_init=40, \\\n",
    "                    init='k-means++',n_jobs=-1)\n",
    "\n",
    "#返回各自文本的所被分配到的类索引\n",
    "result = km_cluster.fit_predict(data)\n",
    "show = np.column_stack((np.array(df)[:,1], result))\n",
    "show = pd.DataFrame(show, columns=[\"name\", \"class\"])\n",
    "print(show)\n",
    "\n",
    "\n",
    "result = pd.DataFrame(result, columns=[\"label\"])\n",
    "result = pd.concat([df, result], axis=1)\n",
    "\n",
    "\n",
    "result.to_csv(\"highDdataLabeled.csv\")\n",
    "# res = km_cluster.predict(data)\n",
    "# print(res)\n",
    "# for i in range(N):\n",
    "#     print(df.iat[i,1], result[i])\n",
    "\n",
    "\n",
    "\n"
   ]
  },
  {
   "cell_type": "code",
   "execution_count": 8,
   "metadata": {},
   "outputs": [],
   "source": []
  },
  {
   "cell_type": "code",
   "execution_count": null,
   "metadata": {},
   "outputs": [],
   "source": []
  },
  {
   "cell_type": "code",
   "execution_count": null,
   "metadata": {},
   "outputs": [],
   "source": []
  }
 ]
}