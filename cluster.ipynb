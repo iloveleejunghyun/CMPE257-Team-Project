{
 "metadata": {
  "language_info": {
   "codemirror_mode": {
    "name": "ipython",
    "version": 3
   },
   "file_extension": ".py",
   "mimetype": "text/x-python",
   "name": "python",
   "nbconvert_exporter": "python",
   "pygments_lexer": "ipython3",
   "version": "3.8.3-final"
  },
  "orig_nbformat": 2,
  "kernelspec": {
   "name": "Python 3.8.3 32-bit",
   "display_name": "Python 3.8.3 32-bit",
   "metadata": {
    "interpreter": {
     "hash": "889621b55858f51f0aa49f88b0340aacb2c22990ec25417723c20a1c624bf098"
    }
   }
  }
 },
 "nbformat": 4,
 "nbformat_minor": 2,
 "cells": [
  {
   "cell_type": "code",
   "execution_count": 14,
   "metadata": {
    "tags": []
   },
   "outputs": [
    {
     "output_type": "stream",
     "name": "stdout",
     "text": [
      "[[1.0 0.0 0.0 ... 0.0 0.0 0.0]\n [0.0 0.0 0.0 ... 0.0 0.0 0.0]\n [0.0 0.0 0.0 ... 0.0 0.0 0.0]\n ...\n [1.0 0.0 0.0 ... 1.0 0.0 1.0]\n [0.0 0.0 0.0 ... 1.0 0.0 1.0]\n [1.0 0.0 0.0 ... 1.0 0.0 1.0]]\n"
     ]
    },
    {
     "output_type": "execute_result",
     "data": {
      "text/plain": [
       "                                     0  1\n",
       "0                              Peanuts  1\n",
       "1               Organic Salted Nut Mix  0\n",
       "2                      Organic Polenta  0\n",
       "3    Breadshop Honey Gone Nuts Granola  0\n",
       "4        Organic Long Grain White Rice  0\n",
       "..                                 ... ..\n",
       "995                     Flavored Mints  1\n",
       "996                Summer Ice Pop Mint  1\n",
       "997                         Freshmints  1\n",
       "998                        Fruit Mints  0\n",
       "999                         Freshmints  1\n",
       "\n",
       "[1000 rows x 2 columns]"
      ],
      "text/html": "<div>\n<style scoped>\n    .dataframe tbody tr th:only-of-type {\n        vertical-align: middle;\n    }\n\n    .dataframe tbody tr th {\n        vertical-align: top;\n    }\n\n    .dataframe thead th {\n        text-align: right;\n    }\n</style>\n<table border=\"1\" class=\"dataframe\">\n  <thead>\n    <tr style=\"text-align: right;\">\n      <th></th>\n      <th>0</th>\n      <th>1</th>\n    </tr>\n  </thead>\n  <tbody>\n    <tr>\n      <th>0</th>\n      <td>Peanuts</td>\n      <td>1</td>\n    </tr>\n    <tr>\n      <th>1</th>\n      <td>Organic Salted Nut Mix</td>\n      <td>0</td>\n    </tr>\n    <tr>\n      <th>2</th>\n      <td>Organic Polenta</td>\n      <td>0</td>\n    </tr>\n    <tr>\n      <th>3</th>\n      <td>Breadshop Honey Gone Nuts Granola</td>\n      <td>0</td>\n    </tr>\n    <tr>\n      <th>4</th>\n      <td>Organic Long Grain White Rice</td>\n      <td>0</td>\n    </tr>\n    <tr>\n      <th>...</th>\n      <td>...</td>\n      <td>...</td>\n    </tr>\n    <tr>\n      <th>995</th>\n      <td>Flavored Mints</td>\n      <td>1</td>\n    </tr>\n    <tr>\n      <th>996</th>\n      <td>Summer Ice Pop Mint</td>\n      <td>1</td>\n    </tr>\n    <tr>\n      <th>997</th>\n      <td>Freshmints</td>\n      <td>1</td>\n    </tr>\n    <tr>\n      <th>998</th>\n      <td>Fruit Mints</td>\n      <td>0</td>\n    </tr>\n    <tr>\n      <th>999</th>\n      <td>Freshmints</td>\n      <td>1</td>\n    </tr>\n  </tbody>\n</table>\n<p>1000 rows × 2 columns</p>\n</div>"
     },
     "metadata": {},
     "execution_count": 14
    }
   ],
   "source": [
    "#1.5H\n",
    "import numpy as np\n",
    "import pandas as pd\n",
    "import collections\n",
    "\n",
    "df = pd.read_csv(\"highDdata.csv\")\n",
    "N = 1000\n",
    "df = df[1:N+1]\n",
    "data = np.array(df)\n",
    "data = data[:, 6:data.shape[1]]\n",
    "print(data)\n",
    "from sklearn.cluster import KMeans\n",
    " \n",
    "num_clusters = 2\n",
    "km_cluster = KMeans(n_clusters=num_clusters, max_iter=300, n_init=40, \\\n",
    "                    init='k-means++',n_jobs=-1)\n",
    "\n",
    "#返回各自文本的所被分配到的类索引\n",
    "result = km_cluster.fit_predict(data)\n",
    "show = np.column_stack((np.array(df)[:,1], result))\n",
    "show = pd.DataFrame(show, columns=[\"name\", \"class\"])\n",
    "show\n",
    "# for i in range(N):\n",
    "#     print(df.iat[i,1], result[i])\n",
    "\n",
    "\n",
    "\n"
   ]
  },
  {
   "cell_type": "code",
   "execution_count": 8,
   "metadata": {},
   "outputs": [],
   "source": []
  },
  {
   "cell_type": "code",
   "execution_count": null,
   "metadata": {},
   "outputs": [],
   "source": []
  },
  {
   "cell_type": "code",
   "execution_count": null,
   "metadata": {},
   "outputs": [],
   "source": []
  }
 ]
}