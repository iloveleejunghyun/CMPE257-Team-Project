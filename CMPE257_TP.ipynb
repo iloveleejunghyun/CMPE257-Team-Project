{
  "nbformat": 4,
  "nbformat_minor": 0,
  "metadata": {
    "colab": {
      "name": "CMPE257_TP.ipynb",
      "provenance": [],
      "collapsed_sections": [],
      "authorship_tag": "ABX9TyMQUxGrycnCsj8QPI3/KpwE",
      "include_colab_link": true
    },
    "kernelspec": {
      "name": "python3",
      "display_name": "Python 3"
    }
  },
  "cells": [
    {
      "cell_type": "markdown",
      "metadata": {
        "id": "view-in-github",
        "colab_type": "text"
      },
      "source": [
        "<a href=\"https://colab.research.google.com/github/iloveleejunghyun/CMPE257-Team-Project/blob/master/CMPE257_TP.ipynb\" target=\"_parent\"><img src=\"https://colab.research.google.com/assets/colab-badge.svg\" alt=\"Open In Colab\"/></a>"
      ]
    },
    {
      "cell_type": "code",
      "metadata": {
        "colab": {
          "base_uri": "https://localhost:8080/"
        },
        "id": "T-lH7wyHC50D",
        "outputId": "1082dec0-c1f8-446b-ff85-3986c241aa89"
      },
      "source": [
        "!wget https://raw.githubusercontent.com/iloveleejunghyun/CMPE257-Team-Project/master/reduce3.csv"
      ],
      "execution_count": null,
      "outputs": [
        {
          "output_type": "stream",
          "text": [
            "--2020-12-01 00:57:52--  https://raw.githubusercontent.com/iloveleejunghyun/CMPE257-Team-Project/master/reduce3.csv\n",
            "Resolving raw.githubusercontent.com (raw.githubusercontent.com)... 151.101.0.133, 151.101.64.133, 151.101.128.133, ...\n",
            "Connecting to raw.githubusercontent.com (raw.githubusercontent.com)|151.101.0.133|:443... connected.\n",
            "HTTP request sent, awaiting response... 200 OK\n",
            "Length: 73578087 (70M) [text/plain]\n",
            "Saving to: ‘reduce3.csv’\n",
            "\n",
            "reduce3.csv         100%[===================>]  70.17M   204MB/s    in 0.3s    \n",
            "\n",
            "2020-12-01 00:57:55 (204 MB/s) - ‘reduce3.csv’ saved [73578087/73578087]\n",
            "\n"
          ],
          "name": "stdout"
        }
      ]
    },
    {
      "cell_type": "code",
      "metadata": {
        "id": "EV0yo9_1DOLK"
      },
      "source": [
        "\n",
        "import numpy as np\n",
        "import pandas as pd\n",
        "import collections\n",
        "#Number of dataset to use\n",
        "N = 10000\n",
        "least_fre = 2\n",
        "#How many keys to use\n",
        "max_sel_keys = 500"
      ],
      "execution_count": null,
      "outputs": []
    },
    {
      "cell_type": "code",
      "metadata": {
        "colab": {
          "base_uri": "https://localhost:8080/"
        },
        "id": "YwCBOJMxC7Vm",
        "outputId": "700cdb55-761e-4f4a-dbeb-1bf4a3442843"
      },
      "source": [
        "%%time\n",
        "\n",
        "df = pd.read_csv(\"reduce3.csv\")\n",
        "\n",
        "# get ingredients_text where Location = USA\n",
        "df =  df.query(\"countries_en == 'United States'\")\n",
        "\n",
        "ing_list = collections.defaultdict(int)\n",
        "total = df.shape[0]\n",
        "N = min(total, N)\n",
        "\n",
        "\n",
        "\n",
        "df = df[0:N]\n",
        "\n",
        "print(\"dataset size\",total)\n",
        "print(\"used \",N)\n",
        "\n",
        "\n",
        "for i in range (N):\n",
        "    ingredients_text = df.iat[i,2]\n",
        "    ing = ingredients_text.split(\",\")\n",
        "    for j in range(len(ing)):\n",
        "        ing[j] = ing[j].replace(\".\",\"\").replace(\")\",\"\").replace(\"(\",\"\").strip().lower()\n",
        "       \n",
        "    for ingredient in ing:\n",
        "        ing_list[ingredient] += 1\n",
        "\n",
        "print(\"key size\", len(ing_list))\n",
        "total_count = 0\n",
        "for val in ing_list.values():\n",
        "    total_count += val\n",
        "print(\"total frequency count\", total_count)\n",
        "\n",
        "max_sel_keys = min(max_sel_keys, len(ing_list))\n",
        "print(f\"There are too many keys, we only use top {max_sel_keys} frequent keys to cluster\")\n",
        "\n",
        "count_dict = collections.defaultdict(list)\n",
        "for key, val in ing_list.items():\n",
        "    if val >= least_fre:\n",
        "        count_dict[val].append(key)\n",
        "\n",
        "counts = list(count_dict.keys())\n",
        "counts.sort(reverse=True)\n",
        "sel_keywords = set()\n",
        "selected_count = 0\n",
        "key_fre = []\n",
        "for i in range(min(max_sel_keys, len(counts))):\n",
        "    # print(f\"count={counts[i]}, ingredients={count_dict[counts[i]]}\")\n",
        "    sel_keywords |= set(count_dict[counts[i]])\n",
        "    selected_count += counts[i]\n",
        "    for ingredient in count_dict[counts[i]]:\n",
        "        key_fre.append([ingredient, counts[i]])\n",
        "\n",
        "key_fre = pd.DataFrame(key_fre, columns=[\"ingredient\", \"frequency\"])\n",
        "\n",
        "print(\"total keys\", len(ing_list))\n",
        "# print(\"selected key list\", sel_keywords)\n",
        "print(\"selected key frequency count\", selected_count)\n",
        "print(key_fre)\n",
        "\n",
        "# add columns\n",
        "for item in sel_keywords:\n",
        "    df[item] = 0 #init with 0\n",
        "\n",
        "for i in range (N):\n",
        "    ingredients_text = df.iat[i,2]\n",
        "    ing = ingredients_text.split(\",\")\n",
        "    for j in range(len(ing)):\n",
        "        ing[j] = ing[j].replace(\".\",\"\").strip()\n",
        "    for ingredient in ing:\n",
        "        if ingredient in sel_keywords:\n",
        "            df.at[i,ingredient] = 1\n",
        "\n",
        "df = df[0:N]\n",
        "\n",
        "# df.to_csv(\"highDdata.csv\", index = False)\n",
        "\n"
      ],
      "execution_count": null,
      "outputs": [
        {
          "output_type": "stream",
          "text": [
            "dataset size 171460\n",
            "used  10000\n",
            "key size 14689\n",
            "total frequency count 115725\n",
            "There are too many keys, we only use top 500 frequent keys to cluster\n",
            "total keys 14689\n",
            "selected key frequency count 64156\n",
            "                     ingredient  frequency\n",
            "0                          salt       6248\n",
            "1                         sugar       4280\n",
            "2                         water       3728\n",
            "3                   citric acid       1974\n",
            "4                        niacin       1386\n",
            "...                         ...        ...\n",
            "5443          selected potatoes          2\n",
            "5444        white and green tea          2\n",
            "5445  green coffee bean extract          2\n",
            "5446       guarana seed extract          2\n",
            "5447           tbhq antioxidant          2\n",
            "\n",
            "[5448 rows x 2 columns]\n",
            "CPU times: user 18 s, sys: 826 ms, total: 18.8 s\n",
            "Wall time: 18.9 s\n"
          ],
          "name": "stdout"
        }
      ]
    },
    {
      "cell_type": "code",
      "metadata": {
        "id": "MzsTneUfElKb",
        "colab": {
          "base_uri": "https://localhost:8080/"
        },
        "outputId": "c3320912-6200-4b29-ae73-c7d05f6637fa"
      },
      "source": [
        "%%time\n",
        "# 2n part, cluster\n",
        "import numpy as np\n",
        "import pandas as pd\n",
        "import collections\n",
        "from sklearn.cluster import KMeans\n",
        "\n",
        "N = df.shape[0]\n",
        "df = df.reset_index(drop=True)\n",
        "print(\"dataset size\", N)\n",
        "df = df[0:N+1]\n",
        "data = np.array(df)\n",
        "data = data[:, 6:data.shape[1]]\n",
        "# print(data)\n",
        " \n",
        "num_clusters = 2\n",
        "km_cluster = KMeans(n_clusters=num_clusters, max_iter=300, n_init=10, \\\n",
        "                    init='k-means++',n_jobs=1)\n",
        "\n",
        "\n",
        "result = km_cluster.fit_predict(data)\n",
        "show = np.column_stack((np.array(df)[:,1], result))\n",
        "show = pd.DataFrame(show, columns=[\"name\", \"label\"])\n",
        "print(show)\n",
        "\n",
        "def count_cluster(arr):\n",
        "    return np.sum(arr)\n",
        "count_c1 = count_cluster(result)\n",
        "count_c0 = len(result) - count_c1\n",
        "print(\"count of cluter0\", count_c0)\n",
        "print(\"count of cluter1\", count_c1)\n",
        "\n",
        "result = pd.DataFrame(result, columns=[\"label\"])\n",
        "result = pd.concat([df, result], axis=1)\n",
        "\n",
        "\n",
        "# result.to_csv(\"highDdataLabeled.csv\", index = False)\n",
        "# res = km_cluster.predict(data)\n",
        "# print(res)\n",
        "# for i in range(N):\n",
        "#     print(df.iat[i,1], result[i])\n",
        "\n",
        "\n",
        "\n",
        "\n",
        "\n"
      ],
      "execution_count": null,
      "outputs": [
        {
          "output_type": "stream",
          "text": [
            "dataset size 10000\n",
            "               name label\n",
            "0     United States     1\n",
            "1     United States     1\n",
            "2     United States     1\n",
            "3     United States     1\n",
            "4     United States     1\n",
            "...             ...   ...\n",
            "9995  United States     1\n",
            "9996  United States     1\n",
            "9997  United States     1\n",
            "9998  United States     1\n",
            "9999  United States     1\n",
            "\n",
            "[10000 rows x 2 columns]\n",
            "count of cluter0 1350\n",
            "count of cluter1 8650\n",
            "CPU times: user 25.3 s, sys: 2.44 s, total: 27.7 s\n",
            "Wall time: 26.3 s\n"
          ],
          "name": "stdout"
        }
      ]
    },
    {
      "cell_type": "code",
      "metadata": {
        "colab": {
          "base_uri": "https://localhost:8080/",
          "height": 562
        },
        "id": "UZNUYtOCkRdL",
        "outputId": "c1cebf4d-d073-444b-d65d-9268856a101a"
      },
      "source": [
        "import matplotlib.pyplot as plt\n",
        " \n",
        "name_list = ['Cluster0','Cluster1']\n",
        "num_list = [count_c0, count_c1]\n",
        "plt.bar(range(len(num_list)), num_list,color='rgb',tick_label=name_list)\n",
        "plt.ylabel(\"Count\")\n",
        "plt.title(\"Count of each cluster\")\n",
        "plt.show()\n",
        "\n",
        "\n",
        "plt.pie(num_list,labels=name_list,autopct='%1.2f%%') #画饼图（数据，数据对应的标签，百分数保留两位小数点）\n",
        "plt.title(\"Comparison of the two clusters\")\n",
        "plt.show()"
      ],
      "execution_count": null,
      "outputs": [
        {
          "output_type": "stream",
          "text": [
            "/usr/local/lib/python3.6/dist-packages/ipykernel_launcher.py:5: MatplotlibDeprecationWarning: Using a string of single character colors as a color sequence is deprecated. Use an explicit list instead.\n",
            "  \"\"\"\n"
          ],
          "name": "stderr"
        },
        {
          "output_type": "display_data",
          "data": {
            "image/png": "[encoded data removed]",
            "text/plain": [
              "<Figure size 432x288 with 1 Axes>"
            ]
          },
          "metadata": {
            "tags": [],
            "needs_background": "light"
          }
        },
        {
          "output_type": "display_data",
          "data": {
            "image/png": "[encoded data removed]",
            "text/plain": [
              "<Figure size 432x288 with 1 Axes>"
            ]
          },
          "metadata": {
            "tags": []
          }
        }
      ]
    },
    {
      "cell_type": "code",
      "metadata": {
        "id": "pp737-vtYiff"
      },
      "source": [
        "#part3, prediction"
      ],
      "execution_count": null,
      "outputs": []
    },
    {
      "cell_type": "code",
      "metadata": {
        "id": "tcA96Y3QYnQ-",
        "colab": {
          "base_uri": "https://localhost:8080/"
        },
        "outputId": "0b7df804-ec7a-4e70-a0df-decda7478dd2"
      },
      "source": [
        "%%time\n",
        "from sklearn.neural_network import MLPClassifier\n",
        "from sklearn.model_selection import train_test_split\n",
        "import pandas as pd\n",
        "import numpy as np\n",
        "\n",
        "#read data\n",
        "# df = pd.read_csv(\"highDdataLabeled.csv\")\n",
        "df = result\n",
        "y = df[[\"label\"]]\n",
        "X = df.iloc[:,5:df.shape[1]-1]\n",
        "\n",
        "def err_count(y, pred_y):\n",
        "    return np.sum(y != pred_y)\n",
        "\n",
        "X_train,X_test,y_train,y_test = train_test_split(X,y,test_size=0.2)\n",
        "y_train = y_train.squeeze()\n",
        "y_test = y_test.squeeze()"
      ],
      "execution_count": null,
      "outputs": [
        {
          "output_type": "stream",
          "text": [
            "CPU times: user 233 ms, sys: 1.96 ms, total: 235 ms\n",
            "Wall time: 246 ms\n"
          ],
          "name": "stdout"
        }
      ]
    },
    {
      "cell_type": "code",
      "metadata": {
        "colab": {
          "base_uri": "https://localhost:8080/"
        },
        "id": "BY37snyYZkDf",
        "outputId": "0fb1a4e8-721a-4d51-ef51-21d816b8e859"
      },
      "source": [
        "%%time\n",
        "# MLP\n",
        "\n",
        "# print(x_train.shape)\n",
        "# print(y_train.shape)\n",
        "#try different parameters\n",
        "#PSO\n",
        "clf = MLPClassifier(solver=\"lbfgs\", alpha=1e-5, hidden_layer_sizes=(5,2), random_state=1)\n",
        "\n",
        "clf.fit(X_train,y_train)\n",
        "pred_y = clf.predict(X_train)\n",
        "Ein_MLP = err_count(y_train, pred_y)\n",
        "Ein_MLP = Ein_MLP / y_train.shape[0]\n",
        "print(\"Ein_MLP\", Ein_MLP)\n",
        "\n",
        "clf.fit(X_test,y_test)\n",
        "pred_y = clf.predict(X_test)\n",
        "tEin_MLP = err_count(y_test, pred_y)\n",
        "tEin_MLP = tEin_MLP / y_test.shape[0]\n",
        "print(\"tEin_MLP\", tEin_MLP)"
      ],
      "execution_count": null,
      "outputs": [
        {
          "output_type": "stream",
          "text": [
            "Ein_MLP 0.132875\n",
            "tEin_MLP 0.1435\n",
            "CPU times: user 2.87 s, sys: 174 ms, total: 3.04 s\n",
            "Wall time: 1.63 s\n"
          ],
          "name": "stdout"
        }
      ]
    },
    {
      "cell_type": "code",
      "metadata": {
        "colab": {
          "base_uri": "https://localhost:8080/"
        },
        "id": "OifcQ6-3Zmcw",
        "outputId": "6eac0def-4381-41ee-9109-f05e8bbf1aa4"
      },
      "source": [
        "%%time\n",
        "#SVM\n",
        "from sklearn import svm\n",
        "\n",
        "clf = svm.SVC()\n",
        "clf.fit(X_train,y_train)\n",
        "\n",
        "pred_y = clf.predict(X_train)\n",
        "Ein_SVM = err_count(y_train, pred_y)\n",
        "Ein_SVM = Ein_SVM\n",
        "print(\"Ein_SVM\", Ein_SVM)\n",
        "\n",
        "clf.fit(X_test,y_test)\n",
        "pred_y = clf.predict(X_test)\n",
        "tEin_SVM = err_count(y_test, pred_y)\n",
        "tEin_SVM = tEin_SVM\n",
        "print(\"tEin_SVM\", tEin_SVM)\n"
      ],
      "execution_count": null,
      "outputs": [
        {
          "output_type": "stream",
          "text": [
            "Ein_SVM 4\n",
            "tEin_SVM 0\n",
            "CPU times: user 2min 5s, sys: 155 ms, total: 2min 5s\n",
            "Wall time: 2min 5s\n"
          ],
          "name": "stdout"
        }
      ]
    },
    {
      "cell_type": "code",
      "metadata": {
        "colab": {
          "base_uri": "https://localhost:8080/"
        },
        "id": "ob0fBETEZoCB",
        "outputId": "f398cc88-8d51-403e-877b-8de3fa3714a1"
      },
      "source": [
        "%%time\n",
        "#Random Forest\n",
        "\n",
        "from sklearn.ensemble import RandomForestClassifier\n",
        "from sklearn.datasets import make_classification\n",
        "# X, y = make_classification(n_samples=1000, n_features=4,\n",
        "#                            n_informative=2, n_redundant=0,\n",
        "#                            random_state=0, shuffle=False)\n",
        "clf = RandomForestClassifier(max_depth=2, random_state=0)\n",
        "clf.fit(X_train, y_train)\n",
        "\n",
        "pred_y = clf.predict(X_train)\n",
        "Ein_RF = err_count(y_train, pred_y)\n",
        "Ein_RF = Ein_RF\n",
        "print(\"Ein_RF\", Ein_RF)\n",
        "\n",
        "clf.fit(X_test,y_test)\n",
        "pred_y = clf.predict(X_test)\n",
        "tEin_RF = err_count(y_test, pred_y)\n",
        "tEin_RF = tEin_RF\n",
        "print(\"tEin_RF\", tEin_RF)\n"
      ],
      "execution_count": null,
      "outputs": [
        {
          "output_type": "stream",
          "text": [
            "Ein_RF 1063\n",
            "tEin_RF 287\n",
            "CPU times: user 948 ms, sys: 20.7 ms, total: 969 ms\n",
            "Wall time: 1.04 s\n"
          ],
          "name": "stdout"
        }
      ]
    },
    {
      "cell_type": "code",
      "metadata": {
        "colab": {
          "base_uri": "https://localhost:8080/"
        },
        "id": "mPFUQzkCZpeX",
        "outputId": "e9265eb1-a9db-4f44-8dea-a681fbbc2493"
      },
      "source": [
        "from sklearn.datasets import load_iris\n",
        "from sklearn.model_selection import train_test_split\n",
        "from sklearn.naive_bayes import GaussianNB\n",
        "\n",
        "# X, y = load_iris(return_X_y=True)\n",
        "# X_train, X_test, y_train, y_test = train_test_split(X, y, test_size=0.5, random_state=0)\n",
        "clf = GaussianNB()\n",
        "pred_y = clf.fit(X_train, y_train)\n",
        "\n",
        "pred_y = clf.predict(X_train)\n",
        "Ein_Bayes = err_count(y_train, pred_y)\n",
        "Ein_Bayes = Ein_Bayes\n",
        "print(\"Ein_Bayes\", Ein_Bayes)\n",
        "\n",
        "clf.fit(X_test,y_test)\n",
        "pred_y = clf.predict(X_test)\n",
        "tEin_Bayes = err_count(y_test, pred_y)\n",
        "tEin_Bayes = tEin_Bayes\n",
        "print(\"tEin_Bayes\", tEin_Bayes)\n",
        "\n",
        "\n",
        "# print(\"Number of mislabeled points out of a total %d points : %d\"\n",
        "#       % (X_test.shape[0], (y_test != y_pred).sum()))"
      ],
      "execution_count": null,
      "outputs": [
        {
          "output_type": "stream",
          "text": [
            "Ein_Bayes 3115\n",
            "tEin_Bayes 569\n"
          ],
          "name": "stdout"
        }
      ]
    },
    {
      "cell_type": "code",
      "metadata": {
        "colab": {
          "base_uri": "https://localhost:8080/",
          "height": 316
        },
        "id": "vNJ049RQZrES",
        "outputId": "323c121a-8d84-47b2-8d91-5da01df21933"
      },
      "source": [
        "#Comparison of Ein\n",
        "\n",
        "import matplotlib.pyplot as plt\n",
        " \n",
        "name_list = ['MLP','SVM',\"RF\", \"Naive Bayes\"]\n",
        "num_list = [Ein_MLP/N, Ein_SVM/N,Ein_RF/N, Ein_Bayes/N]\n",
        "print(num_list)\n",
        "plt.bar(range(len(num_list)), num_list,color='rgb',tick_label=name_list)\n",
        "plt.ylabel(\"Ein of training data\")\n",
        "plt.show()"
      ],
      "execution_count": null,
      "outputs": [
        {
          "output_type": "stream",
          "text": [
            "[1.32875e-05, 0.0004, 0.1063, 0.3115]\n"
          ],
          "name": "stdout"
        },
        {
          "output_type": "stream",
          "text": [
            "/usr/local/lib/python3.6/dist-packages/ipykernel_launcher.py:8: MatplotlibDeprecationWarning: Using a string of single character colors as a color sequence is deprecated. Use an explicit list instead.\n",
            "  \n"
          ],
          "name": "stderr"
        },
        {
          "output_type": "display_data",
          "data": {
            "image/png": "[encoded data removed]",
            "text/plain": [
              "<Figure size 432x288 with 1 Axes>"
            ]
          },
          "metadata": {
            "tags": [],
            "needs_background": "light"
          }
        }
      ]
    },
    {
      "cell_type": "code",
      "metadata": {
        "colab": {
          "base_uri": "https://localhost:8080/",
          "height": 316
        },
        "id": "0-go2b40Zsgn",
        "outputId": "e6ae50be-5008-4665-da33-8d8d16250f52"
      },
      "source": [
        "# test set\n",
        "# test train split\n",
        "import matplotlib.pyplot as plt\n",
        " \n",
        "name_list = ['MLP','SVM',\"RF\", \"Naive Bayes\"]\n",
        "num_list = [tEin_MLP/N, tEin_SVM/N, tEin_RF/N, tEin_Bayes/N]\n",
        "print(num_list)\n",
        "plt.bar(range(len(num_list)), num_list,color='rgb',tick_label=name_list)\n",
        "plt.ylabel(\"Ein of test data\")\n",
        "plt.show()"
      ],
      "execution_count": null,
      "outputs": [
        {
          "output_type": "stream",
          "text": [
            "[1.4349999999999998e-05, 0.0, 0.0287, 0.0569]\n"
          ],
          "name": "stdout"
        },
        {
          "output_type": "stream",
          "text": [
            "/usr/local/lib/python3.6/dist-packages/ipykernel_launcher.py:8: MatplotlibDeprecationWarning: Using a string of single character colors as a color sequence is deprecated. Use an explicit list instead.\n",
            "  \n"
          ],
          "name": "stderr"
        },
        {
          "output_type": "display_data",
          "data": {
            "image/png": "[encoded data removed]",
            "text/plain": [
              "<Figure size 432x288 with 1 Axes>"
            ]
          },
          "metadata": {
            "tags": [],
            "needs_background": "light"
          }
        }
      ]
    }
  ]
}